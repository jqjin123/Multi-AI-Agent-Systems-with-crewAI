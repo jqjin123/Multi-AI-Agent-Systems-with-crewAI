{
 "cells": [
  {
   "cell_type": "markdown",
   "metadata": {},
   "source": [
    "You can download the `requirements.txt` for this course from the workspace of this lab. `File --> Open...`"
   ]
  },
  {
   "cell_type": "markdown",
   "metadata": {},
   "source": [
    "# L2: Create Agents to Research and Write an Article\n",
    "\n",
    "In this lesson, you will be introduced to the foundational concepts of multi-agent systems and get an overview of the crewAI framework."
   ]
  },
  {
   "cell_type": "markdown",
   "metadata": {},
   "source": [
    "The libraries are already installed in the classroom. If you're running this notebook on your own machine, you can install the following:\n",
    "```Python\n",
    "!pip install crewai==0.28.8 crewai_tools==0.1.6 langchain_community==0.0.29\n",
    "```"
   ]
  },
  {
   "cell_type": "code",
   "execution_count": 1,
   "metadata": {
    "height": 64
   },
   "outputs": [],
   "source": [
    "# Warning control\n",
    "import warnings\n",
    "warnings.filterwarnings('ignore')"
   ]
  },
  {
   "cell_type": "markdown",
   "metadata": {},
   "source": [
    "- Import from the crewAI libray."
   ]
  },
  {
   "cell_type": "code",
   "execution_count": 2,
   "metadata": {
    "height": 30
   },
   "outputs": [],
   "source": [
    "from crewai import Agent, Task, Crew"
   ]
  },
  {
   "cell_type": "markdown",
   "metadata": {},
   "source": [
    "- As a LLM for your agents, you'll be using OpenAI's `gpt-3.5-turbo`.\n",
    "\n",
    "**Optional Note:** crewAI also allow other popular models to be used as a LLM for your Agents. You can see some of the examples at the [bottom of the notebook](#1)."
   ]
  },
  {
   "cell_type": "code",
   "execution_count": 3,
   "metadata": {
    "height": 98
   },
   "outputs": [],
   "source": [
    "import os\n",
    "from utils import get_openai_api_key\n",
    "\n",
    "openai_api_key = get_openai_api_key()\n",
    "os.environ[\"OPENAI_MODEL_NAME\"] = 'gpt-3.5-turbo'"
   ]
  },
  {
   "cell_type": "markdown",
   "metadata": {},
   "source": [
    "## Creating Agents\n",
    "\n",
    "- Define your Agents, and provide them a `role`, `goal` and `backstory`.\n",
    "- It has been seen that LLMs perform better when they are role playing."
   ]
  },
  {
   "cell_type": "markdown",
   "metadata": {},
   "source": [
    "### Agent: Planner\n",
    "\n",
    "**Note**: The benefit of using _multiple strings_ :\n",
    "```Python\n",
    "varname = \"line 1 of text\"\n",
    "          \"line 2 of text\"\n",
    "```\n",
    "\n",
    "versus the _triple quote docstring_:\n",
    "```Python\n",
    "varname = \"\"\"line 1 of text\n",
    "             line 2 of text\n",
    "          \"\"\"\n",
    "```\n",
    "is that it can avoid adding those whitespaces and newline characters, making it better formatted to be passed to the LLM."
   ]
  },
  {
   "cell_type": "code",
   "execution_count": 4,
   "metadata": {
    "height": 234
   },
   "outputs": [],
   "source": [
    "planner = Agent(\n",
    "    role=\"Content Planner\",\n",
    "    goal=\"Plan engaging and factually accurate content on {topic}\",\n",
    "    backstory=\"You're working on planning a blog article \"\n",
    "              \"about the topic: {topic}.\"\n",
    "              \"You collect information that helps the \"\n",
    "              \"audience learn something \"\n",
    "              \"and make informed decisions. \"\n",
    "              \"Your work is the basis for \"\n",
    "              \"the Content Writer to write an article on this topic.\",\n",
    "    allow_delegation=False,\n",
    "\tverbose=True\n",
    ")"
   ]
  },
  {
   "cell_type": "markdown",
   "metadata": {},
   "source": [
    "### Agent: Writer"
   ]
  },
  {
   "cell_type": "code",
   "execution_count": 5,
   "metadata": {
    "height": 370
   },
   "outputs": [],
   "source": [
    "writer = Agent(\n",
    "    role=\"Content Writer\",\n",
    "    goal=\"Write insightful and factually accurate \"\n",
    "         \"opinion piece about the topic: {topic}\",\n",
    "    backstory=\"You're working on a writing \"\n",
    "              \"a new opinion piece about the topic: {topic}. \"\n",
    "              \"You base your writing on the work of \"\n",
    "              \"the Content Planner, who provides an outline \"\n",
    "              \"and relevant context about the topic. \"\n",
    "              \"You follow the main objectives and \"\n",
    "              \"direction of the outline, \"\n",
    "              \"as provide by the Content Planner. \"\n",
    "              \"You also provide objective and impartial insights \"\n",
    "              \"and back them up with information \"\n",
    "              \"provide by the Content Planner. \"\n",
    "              \"You acknowledge in your opinion piece \"\n",
    "              \"when your statements are opinions \"\n",
    "              \"as opposed to objective statements.\",\n",
    "    allow_delegation=False,\n",
    "    verbose=True\n",
    ")"
   ]
  },
  {
   "cell_type": "markdown",
   "metadata": {},
   "source": [
    "### Agent: Editor"
   ]
  },
  {
   "cell_type": "code",
   "execution_count": 6,
   "metadata": {
    "height": 268
   },
   "outputs": [],
   "source": [
    "editor = Agent(\n",
    "    role=\"Editor\",\n",
    "    goal=\"Edit a given blog post to align with \"\n",
    "         \"the writing style of the organization. \",\n",
    "    backstory=\"You are an editor who receives a blog post \"\n",
    "              \"from the Content Writer. \"\n",
    "              \"Your goal is to review the blog post \"\n",
    "              \"to ensure that it follows journalistic best practices,\"\n",
    "              \"provides balanced viewpoints \"\n",
    "              \"when providing opinions or assertions, \"\n",
    "              \"and also avoids major controversial topics \"\n",
    "              \"or opinions when possible.\",\n",
    "    allow_delegation=False,\n",
    "    verbose=True\n",
    ")"
   ]
  },
  {
   "cell_type": "markdown",
   "metadata": {},
   "source": [
    "## Creating Tasks\n",
    "\n",
    "- Define your Tasks, and provide them a `description`, `expected_output` and `agent`."
   ]
  },
  {
   "cell_type": "markdown",
   "metadata": {},
   "source": [
    "### Task: Plan"
   ]
  },
  {
   "cell_type": "code",
   "execution_count": 7,
   "metadata": {
    "height": 268
   },
   "outputs": [],
   "source": [
    "plan = Task(\n",
    "    description=(\n",
    "        \"1. Prioritize the latest trends, key players, \"\n",
    "            \"and noteworthy news on {topic}.\\n\"\n",
    "        \"2. Identify the target audience, considering \"\n",
    "            \"their interests and pain points.\\n\"\n",
    "        \"3. Develop a detailed content outline including \"\n",
    "            \"an introduction, key points, and a call to action.\\n\"\n",
    "        \"4. Include SEO keywords and relevant data or sources.\"\n",
    "    ),\n",
    "    expected_output=\"A comprehensive content plan document \"\n",
    "        \"with an outline, audience analysis, \"\n",
    "        \"SEO keywords, and resources.\",\n",
    "    agent=planner,\n",
    ")"
   ]
  },
  {
   "cell_type": "markdown",
   "metadata": {},
   "source": [
    "### Task: Write"
   ]
  },
  {
   "cell_type": "code",
   "execution_count": 8,
   "metadata": {
    "height": 319
   },
   "outputs": [],
   "source": [
    "write = Task(\n",
    "    description=(  # descriptipn描述了任务是什么，agent要怎么做 \n",
    "        \"1. Use the content plan to craft a compelling \"\n",
    "            \"blog post on {topic}.\\n\"\n",
    "        \"2. Incorporate SEO keywords naturally.\\n\"\n",
    "\t\t\"3. Sections/Subtitles are properly named \"\n",
    "            \"in an engaging manner.\\n\"\n",
    "        \"4. Ensure the post is structured with an \"\n",
    "            \"engaging introduction, insightful body, \"\n",
    "            \"and a summarizing conclusion.\\n\"\n",
    "        \"5. Proofread for grammatical errors and \"\n",
    "            \"alignment with the brand's voice.\\n\"\n",
    "    ),\n",
    "    expected_output=\"A well-written blog post \"\n",
    "        \"in markdown format, ready for publication, \"\n",
    "        \"each section should have 2 or 3 paragraphs.\",\n",
    "    agent=writer,\n",
    ")"
   ]
  },
  {
   "cell_type": "markdown",
   "metadata": {},
   "source": [
    "### Task: Edit"
   ]
  },
  {
   "cell_type": "code",
   "execution_count": 9,
   "metadata": {
    "height": 166
   },
   "outputs": [],
   "source": [
    "edit = Task(\n",
    "    description=(\"Proofread the given blog post for \"\n",
    "                 \"grammatical errors and \"\n",
    "                 \"alignment with the brand's voice.\"),\n",
    "    expected_output=\"A well-written blog post in markdown format, \"\n",
    "                    \"ready for publication, \"\n",
    "                    \"each section should have 2 or 3 paragraphs.\",\n",
    "    agent=editor\n",
    ")"
   ]
  },
  {
   "cell_type": "markdown",
   "metadata": {},
   "source": [
    "## Creating the Crew\n",
    "\n",
    "- Create your crew of Agents\n",
    "- Pass the tasks to be performed by those agents.\n",
    "    - **Note**: *For this simple example*, the tasks will be performed sequentially (i.e they are dependent on each other), so the _order_ of the task in the list _matters_.\n",
    "- `verbose=2` allows you to see all the logs of the execution. "
   ]
  },
  {
   "cell_type": "code",
   "execution_count": 10,
   "metadata": {
    "height": 98
   },
   "outputs": [],
   "source": [
    "crew = Crew(\n",
    "    agents=[planner, writer, editor],\n",
    "    tasks=[plan, write, edit],\n",
    "    verbose=2\n",
    ")"
   ]
  },
  {
   "cell_type": "markdown",
   "metadata": {},
   "source": [
    "## Running the Crew"
   ]
  },
  {
   "cell_type": "markdown",
   "metadata": {},
   "source": [
    "**Note**: LLMs can provide different outputs for they same input, so what you get might be different than what you see in the video."
   ]
  },
  {
   "cell_type": "code",
   "execution_count": 11,
   "metadata": {
    "height": 30
   },
   "outputs": [
    {
     "name": "stdout",
     "output_type": "stream",
     "text": [
      "\u001b[1m\u001b[95m [DEBUG]: == Working Agent: Content Planner\u001b[00m\n",
      "\u001b[1m\u001b[95m [INFO]: == Starting Task: 1. Prioritize the latest trends, key players, and noteworthy news on Artificial Intelligence.\n",
      "2. Identify the target audience, considering their interests and pain points.\n",
      "3. Develop a detailed content outline including an introduction, key points, and a call to action.\n",
      "4. Include SEO keywords and relevant data or sources.\u001b[00m\n",
      "\n",
      "\n",
      "\u001b[1m> Entering new CrewAgentExecutor chain...\u001b[0m\n",
      "\u001b[32;1m\u001b[1;3mI now can give a great answer\n",
      "\n",
      "Final Answer: \n",
      "\n",
      "Title: The Future of Artificial Intelligence: Trends, Players, and News\n",
      "\n",
      "Introduction:\n",
      "- Brief overview of Artificial Intelligence and its impact on various industries\n",
      "- Importance of staying updated on the latest trends, key players, and news in the AI sector\n",
      "\n",
      "Key Points:\n",
      "1. Latest Trends in Artificial Intelligence:\n",
      "- Machine learning advancements\n",
      "- Natural language processing developments\n",
      "- AI ethics and bias considerations\n",
      "- Autonomous vehicles and robotics\n",
      "- Personalization and recommendation systems\n",
      "\n",
      "2. Key Players in the AI Industry:\n",
      "- Google\n",
      "- Amazon\n",
      "- Microsoft\n",
      "- IBM\n",
      "- Tesla\n",
      "- OpenAI\n",
      "- DeepMind\n",
      "\n",
      "3. Noteworthy News in Artificial Intelligence:\n",
      "- Recent breakthroughs in AI research\n",
      "- AI applications in healthcare, finance, and other sectors\n",
      "- Ethical concerns and regulations surrounding AI technology\n",
      "- Impact of AI on the future job market\n",
      "\n",
      "Audience Analysis:\n",
      "- Target audience includes tech enthusiasts, business professionals, students, and anyone interested in the future of technology\n",
      "- Interests: staying updated on the latest advancements in AI, understanding the impact of AI on society and the economy\n",
      "- Pain points: confusion about AI terminology, lack of clarity on the key players in the industry, difficulty in keeping up with the fast-paced changes in AI technology\n",
      "\n",
      "SEO Keywords:\n",
      "- Artificial Intelligence trends\n",
      "- Top AI companies\n",
      "- Latest news in AI\n",
      "- Future of AI technology\n",
      "- AI industry updates\n",
      "\n",
      "Call to Action:\n",
      "- Encourage readers to subscribe to a newsletter for regular updates on AI trends and news\n",
      "- Invite readers to attend upcoming AI conferences or webinars for in-depth insights\n",
      "- Encourage readers to share the article with their network to spread awareness about the importance of staying informed on AI advancements\n",
      "\n",
      "Resources:\n",
      "- Forbes: \"Top Artificial Intelligence Trends to Watch in 2021\"\n",
      "- TechCrunch: \"The Leading Players in the AI Industry\"\n",
      "- MIT Technology Review: \"Latest News in Artificial Intelligence\"\n",
      "- World Economic Forum: \"The Future of Artificial Intelligence and Its Impact on Jobs\"\u001b[0m\n",
      "\n",
      "\u001b[1m> Finished chain.\u001b[0m\n",
      "\u001b[1m\u001b[92m [DEBUG]: == [Content Planner] Task output: Title: The Future of Artificial Intelligence: Trends, Players, and News\n",
      "\n",
      "Introduction:\n",
      "- Brief overview of Artificial Intelligence and its impact on various industries\n",
      "- Importance of staying updated on the latest trends, key players, and news in the AI sector\n",
      "\n",
      "Key Points:\n",
      "1. Latest Trends in Artificial Intelligence:\n",
      "- Machine learning advancements\n",
      "- Natural language processing developments\n",
      "- AI ethics and bias considerations\n",
      "- Autonomous vehicles and robotics\n",
      "- Personalization and recommendation systems\n",
      "\n",
      "2. Key Players in the AI Industry:\n",
      "- Google\n",
      "- Amazon\n",
      "- Microsoft\n",
      "- IBM\n",
      "- Tesla\n",
      "- OpenAI\n",
      "- DeepMind\n",
      "\n",
      "3. Noteworthy News in Artificial Intelligence:\n",
      "- Recent breakthroughs in AI research\n",
      "- AI applications in healthcare, finance, and other sectors\n",
      "- Ethical concerns and regulations surrounding AI technology\n",
      "- Impact of AI on the future job market\n",
      "\n",
      "Audience Analysis:\n",
      "- Target audience includes tech enthusiasts, business professionals, students, and anyone interested in the future of technology\n",
      "- Interests: staying updated on the latest advancements in AI, understanding the impact of AI on society and the economy\n",
      "- Pain points: confusion about AI terminology, lack of clarity on the key players in the industry, difficulty in keeping up with the fast-paced changes in AI technology\n",
      "\n",
      "SEO Keywords:\n",
      "- Artificial Intelligence trends\n",
      "- Top AI companies\n",
      "- Latest news in AI\n",
      "- Future of AI technology\n",
      "- AI industry updates\n",
      "\n",
      "Call to Action:\n",
      "- Encourage readers to subscribe to a newsletter for regular updates on AI trends and news\n",
      "- Invite readers to attend upcoming AI conferences or webinars for in-depth insights\n",
      "- Encourage readers to share the article with their network to spread awareness about the importance of staying informed on AI advancements\n",
      "\n",
      "Resources:\n",
      "- Forbes: \"Top Artificial Intelligence Trends to Watch in 2021\"\n",
      "- TechCrunch: \"The Leading Players in the AI Industry\"\n",
      "- MIT Technology Review: \"Latest News in Artificial Intelligence\"\n",
      "- World Economic Forum: \"The Future of Artificial Intelligence and Its Impact on Jobs\"\n",
      "\n",
      "\u001b[00m\n",
      "\u001b[1m\u001b[95m [DEBUG]: == Working Agent: Content Writer\u001b[00m\n",
      "\u001b[1m\u001b[95m [INFO]: == Starting Task: 1. Use the content plan to craft a compelling blog post on Artificial Intelligence.\n",
      "2. Incorporate SEO keywords naturally.\n",
      "3. Sections/Subtitles are properly named in an engaging manner.\n",
      "4. Ensure the post is structured with an engaging introduction, insightful body, and a summarizing conclusion.\n",
      "5. Proofread for grammatical errors and alignment with the brand's voice.\n",
      "\u001b[00m\n",
      "\n",
      "\n",
      "\u001b[1m> Entering new CrewAgentExecutor chain...\u001b[0m\n",
      "\u001b[32;1m\u001b[1;3mI now can give a great answer\n",
      "\n",
      "Final Answer:\n",
      "\n",
      "# The Future of Artificial Intelligence: Trends, Players, and News\n",
      "\n",
      "## Introduction\n",
      "\n",
      "Artificial Intelligence (AI) has become a transformative force across various industries, revolutionizing the way we work, communicate, and live. From machine learning advancements to natural language processing developments, AI has the potential to shape the future in unprecedented ways. Staying updated on the latest trends, key players, and news in the AI sector is crucial for understanding the impact of this technology on society and the economy.\n",
      "\n",
      "## Latest Trends in Artificial Intelligence\n",
      "\n",
      "In the field of AI, machine learning advancements continue to drive innovation, enabling computers to learn from data and improve their performance without being explicitly programmed. Natural language processing developments have also gained momentum, with AI systems becoming more adept at understanding and generating human language. However, as AI technologies evolve, ethical considerations and bias issues have come to the forefront, raising important questions about the responsible use of AI. Autonomous vehicles and robotics are also at the forefront of AI innovation, with companies like Tesla pushing the boundaries of self-driving technology. Personalization and recommendation systems powered by AI algorithms are transforming the way we interact with online platforms, creating tailored experiences for users.\n",
      "\n",
      "## Key Players in the AI Industry\n",
      "\n",
      "The AI industry is dominated by major players such as Google, Amazon, Microsoft, IBM, Tesla, OpenAI, and DeepMind. These companies are at the forefront of AI research and development, driving innovation and shaping the future of technology. Google's DeepMind, for example, has made significant strides in AI research, particularly in the field of reinforcement learning. Amazon's AWS AI services are widely used across industries, providing scalable and cost-effective AI solutions. Microsoft's Azure AI platform offers a comprehensive suite of AI tools for businesses, while IBM's Watson AI technology is renowned for its cognitive computing capabilities. Tesla's self-driving technology and OpenAI's advancements in AI ethics are also noteworthy contributions to the industry.\n",
      "\n",
      "## Noteworthy News in Artificial Intelligence\n",
      "\n",
      "Recent breakthroughs in AI research, such as OpenAI's GPT-3 language model and DeepMind's AlphaFold protein folding algorithm, have garnered widespread attention for their potential applications across various sectors. AI is increasingly being deployed in healthcare, finance, and other industries to improve efficiency and decision-making processes. However, ethical concerns and regulations surrounding AI technology remain a key focus area, with policymakers and industry leaders working to address issues of bias, privacy, and transparency. The impact of AI on the future job market is also a topic of debate, with concerns about automation displacing human workers and the need for upskilling and reskilling programs to adapt to a changing workforce.\n",
      "\n",
      "## Conclusion\n",
      "\n",
      "As AI continues to advance at a rapid pace, staying informed about the latest trends, key players, and news in the industry is essential for anyone interested in the future of technology. From machine learning and natural language processing to ethical considerations and autonomous vehicles, AI is reshaping the way we interact with the world around us. By keeping up with the latest developments and understanding the implications of AI technology, we can navigate the complex landscape of artificial intelligence with greater clarity and insight.\n",
      "\n",
      "Remember to subscribe to our newsletter for regular updates on AI trends and news, attend upcoming AI conferences or webinars for in-depth insights, and share this article with your network to spread awareness about the importance of staying informed on AI advancements. Together, we can shape the future of artificial intelligence and harness its potential for the benefit of society and the economy.\u001b[0m\n",
      "\n",
      "\u001b[1m> Finished chain.\u001b[0m\n",
      "\u001b[1m\u001b[92m [DEBUG]: == [Content Writer] Task output: # The Future of Artificial Intelligence: Trends, Players, and News\n",
      "\n",
      "## Introduction\n",
      "\n",
      "Artificial Intelligence (AI) has become a transformative force across various industries, revolutionizing the way we work, communicate, and live. From machine learning advancements to natural language processing developments, AI has the potential to shape the future in unprecedented ways. Staying updated on the latest trends, key players, and news in the AI sector is crucial for understanding the impact of this technology on society and the economy.\n",
      "\n",
      "## Latest Trends in Artificial Intelligence\n",
      "\n",
      "In the field of AI, machine learning advancements continue to drive innovation, enabling computers to learn from data and improve their performance without being explicitly programmed. Natural language processing developments have also gained momentum, with AI systems becoming more adept at understanding and generating human language. However, as AI technologies evolve, ethical considerations and bias issues have come to the forefront, raising important questions about the responsible use of AI. Autonomous vehicles and robotics are also at the forefront of AI innovation, with companies like Tesla pushing the boundaries of self-driving technology. Personalization and recommendation systems powered by AI algorithms are transforming the way we interact with online platforms, creating tailored experiences for users.\n",
      "\n",
      "## Key Players in the AI Industry\n",
      "\n",
      "The AI industry is dominated by major players such as Google, Amazon, Microsoft, IBM, Tesla, OpenAI, and DeepMind. These companies are at the forefront of AI research and development, driving innovation and shaping the future of technology. Google's DeepMind, for example, has made significant strides in AI research, particularly in the field of reinforcement learning. Amazon's AWS AI services are widely used across industries, providing scalable and cost-effective AI solutions. Microsoft's Azure AI platform offers a comprehensive suite of AI tools for businesses, while IBM's Watson AI technology is renowned for its cognitive computing capabilities. Tesla's self-driving technology and OpenAI's advancements in AI ethics are also noteworthy contributions to the industry.\n",
      "\n",
      "## Noteworthy News in Artificial Intelligence\n",
      "\n",
      "Recent breakthroughs in AI research, such as OpenAI's GPT-3 language model and DeepMind's AlphaFold protein folding algorithm, have garnered widespread attention for their potential applications across various sectors. AI is increasingly being deployed in healthcare, finance, and other industries to improve efficiency and decision-making processes. However, ethical concerns and regulations surrounding AI technology remain a key focus area, with policymakers and industry leaders working to address issues of bias, privacy, and transparency. The impact of AI on the future job market is also a topic of debate, with concerns about automation displacing human workers and the need for upskilling and reskilling programs to adapt to a changing workforce.\n",
      "\n",
      "## Conclusion\n",
      "\n",
      "As AI continues to advance at a rapid pace, staying informed about the latest trends, key players, and news in the industry is essential for anyone interested in the future of technology. From machine learning and natural language processing to ethical considerations and autonomous vehicles, AI is reshaping the way we interact with the world around us. By keeping up with the latest developments and understanding the implications of AI technology, we can navigate the complex landscape of artificial intelligence with greater clarity and insight.\n",
      "\n",
      "Remember to subscribe to our newsletter for regular updates on AI trends and news, attend upcoming AI conferences or webinars for in-depth insights, and share this article with your network to spread awareness about the importance of staying informed on AI advancements. Together, we can shape the future of artificial intelligence and harness its potential for the benefit of society and the economy.\n",
      "\n",
      "\u001b[00m\n",
      "\u001b[1m\u001b[95m [DEBUG]: == Working Agent: Editor\u001b[00m\n",
      "\u001b[1m\u001b[95m [INFO]: == Starting Task: Proofread the given blog post for grammatical errors and alignment with the brand's voice.\u001b[00m\n",
      "\n",
      "\n",
      "\u001b[1m> Entering new CrewAgentExecutor chain...\u001b[0m\n"
     ]
    },
    {
     "name": "stdout",
     "output_type": "stream",
     "text": [
      "\u001b[32;1m\u001b[1;3mI now can give a great answer\n",
      "\n",
      "Final Answer:\n",
      "# The Future of Artificial Intelligence: Trends, Players, and News\n",
      "\n",
      "## Introduction\n",
      "\n",
      "Artificial Intelligence (AI) has become a transformative force across various industries, revolutionizing the way we work, communicate, and live. From machine learning advancements to natural language processing developments, AI has the potential to shape the future in unprecedented ways. Staying updated on the latest trends, key players, and news in the AI sector is crucial for understanding the impact of this technology on society and the economy.\n",
      "\n",
      "## Latest Trends in Artificial Intelligence\n",
      "\n",
      "In the field of AI, machine learning advancements continue to drive innovation, enabling computers to learn from data and improve their performance without being explicitly programmed. Natural language processing developments have also gained momentum, with AI systems becoming more adept at understanding and generating human language. However, as AI technologies evolve, ethical considerations and bias issues have come to the forefront, raising important questions about the responsible use of AI. Autonomous vehicles and robotics are also at the forefront of AI innovation, with companies like Tesla pushing the boundaries of self-driving technology. Personalization and recommendation systems powered by AI algorithms are transforming the way we interact with online platforms, creating tailored experiences for users.\n",
      "\n",
      "## Key Players in the AI Industry\n",
      "\n",
      "The AI industry is dominated by major players such as Google, Amazon, Microsoft, IBM, Tesla, OpenAI, and DeepMind. These companies are at the forefront of AI research and development, driving innovation and shaping the future of technology. Google's DeepMind, for example, has made significant strides in AI research, particularly in the field of reinforcement learning. Amazon's AWS AI services are widely used across industries, providing scalable and cost-effective AI solutions. Microsoft's Azure AI platform offers a comprehensive suite of AI tools for businesses, while IBM's Watson AI technology is renowned for its cognitive computing capabilities. Tesla's self-driving technology and OpenAI's advancements in AI ethics are also noteworthy contributions to the industry.\n",
      "\n",
      "## Noteworthy News in Artificial Intelligence\n",
      "\n",
      "Recent breakthroughs in AI research, such as OpenAI's GPT-3 language model and DeepMind's AlphaFold protein folding algorithm, have garnered widespread attention for their potential applications across various sectors. AI is increasingly being deployed in healthcare, finance, and other industries to improve efficiency and decision-making processes. However, ethical concerns and regulations surrounding AI technology remain a key focus area, with policymakers and industry leaders working to address issues of bias, privacy, and transparency. The impact of AI on the future job market is also a topic of debate, with concerns about automation displacing human workers and the need for upskilling and reskilling programs to adapt to a changing workforce.\n",
      "\n",
      "## Conclusion\n",
      "\n",
      "As AI continues to advance at a rapid pace, staying informed about the latest trends, key players, and news in the industry is essential for anyone interested in the future of technology. From machine learning and natural language processing to ethical considerations and autonomous vehicles, AI is reshaping the way we interact with the world around us. By keeping up with the latest developments and understanding the implications of AI technology, we can navigate the complex landscape of artificial intelligence with greater clarity and insight.\n",
      "\n",
      "Remember to subscribe to our newsletter for regular updates on AI trends and news, attend upcoming AI conferences or webinars for in-depth insights, and share this article with your network to spread awareness about the importance of staying informed on AI advancements. Together, we can shape the future of artificial intelligence and harness its potential for the benefit of society and the economy.\u001b[0m\n",
      "\n",
      "\u001b[1m> Finished chain.\u001b[0m\n",
      "\u001b[1m\u001b[92m [DEBUG]: == [Editor] Task output: # The Future of Artificial Intelligence: Trends, Players, and News\n",
      "\n",
      "## Introduction\n",
      "\n",
      "Artificial Intelligence (AI) has become a transformative force across various industries, revolutionizing the way we work, communicate, and live. From machine learning advancements to natural language processing developments, AI has the potential to shape the future in unprecedented ways. Staying updated on the latest trends, key players, and news in the AI sector is crucial for understanding the impact of this technology on society and the economy.\n",
      "\n",
      "## Latest Trends in Artificial Intelligence\n",
      "\n",
      "In the field of AI, machine learning advancements continue to drive innovation, enabling computers to learn from data and improve their performance without being explicitly programmed. Natural language processing developments have also gained momentum, with AI systems becoming more adept at understanding and generating human language. However, as AI technologies evolve, ethical considerations and bias issues have come to the forefront, raising important questions about the responsible use of AI. Autonomous vehicles and robotics are also at the forefront of AI innovation, with companies like Tesla pushing the boundaries of self-driving technology. Personalization and recommendation systems powered by AI algorithms are transforming the way we interact with online platforms, creating tailored experiences for users.\n",
      "\n",
      "## Key Players in the AI Industry\n",
      "\n",
      "The AI industry is dominated by major players such as Google, Amazon, Microsoft, IBM, Tesla, OpenAI, and DeepMind. These companies are at the forefront of AI research and development, driving innovation and shaping the future of technology. Google's DeepMind, for example, has made significant strides in AI research, particularly in the field of reinforcement learning. Amazon's AWS AI services are widely used across industries, providing scalable and cost-effective AI solutions. Microsoft's Azure AI platform offers a comprehensive suite of AI tools for businesses, while IBM's Watson AI technology is renowned for its cognitive computing capabilities. Tesla's self-driving technology and OpenAI's advancements in AI ethics are also noteworthy contributions to the industry.\n",
      "\n",
      "## Noteworthy News in Artificial Intelligence\n",
      "\n",
      "Recent breakthroughs in AI research, such as OpenAI's GPT-3 language model and DeepMind's AlphaFold protein folding algorithm, have garnered widespread attention for their potential applications across various sectors. AI is increasingly being deployed in healthcare, finance, and other industries to improve efficiency and decision-making processes. However, ethical concerns and regulations surrounding AI technology remain a key focus area, with policymakers and industry leaders working to address issues of bias, privacy, and transparency. The impact of AI on the future job market is also a topic of debate, with concerns about automation displacing human workers and the need for upskilling and reskilling programs to adapt to a changing workforce.\n",
      "\n",
      "## Conclusion\n",
      "\n",
      "As AI continues to advance at a rapid pace, staying informed about the latest trends, key players, and news in the industry is essential for anyone interested in the future of technology. From machine learning and natural language processing to ethical considerations and autonomous vehicles, AI is reshaping the way we interact with the world around us. By keeping up with the latest developments and understanding the implications of AI technology, we can navigate the complex landscape of artificial intelligence with greater clarity and insight.\n",
      "\n",
      "Remember to subscribe to our newsletter for regular updates on AI trends and news, attend upcoming AI conferences or webinars for in-depth insights, and share this article with your network to spread awareness about the importance of staying informed on AI advancements. Together, we can shape the future of artificial intelligence and harness its potential for the benefit of society and the economy.\n",
      "\n",
      "\u001b[00m\n"
     ]
    }
   ],
   "source": [
    "result = crew.kickoff(inputs={\"topic\": \"Artificial Intelligence\"})"
   ]
  },
  {
   "cell_type": "markdown",
   "metadata": {},
   "source": [
    "- Display the results of your execution as markdown in the notebook."
   ]
  },
  {
   "cell_type": "code",
   "execution_count": 12,
   "metadata": {
    "height": 47
   },
   "outputs": [
    {
     "data": {
      "text/markdown": [
       "# The Future of Artificial Intelligence: Trends, Players, and News\n",
       "\n",
       "## Introduction\n",
       "\n",
       "Artificial Intelligence (AI) has become a transformative force across various industries, revolutionizing the way we work, communicate, and live. From machine learning advancements to natural language processing developments, AI has the potential to shape the future in unprecedented ways. Staying updated on the latest trends, key players, and news in the AI sector is crucial for understanding the impact of this technology on society and the economy.\n",
       "\n",
       "## Latest Trends in Artificial Intelligence\n",
       "\n",
       "In the field of AI, machine learning advancements continue to drive innovation, enabling computers to learn from data and improve their performance without being explicitly programmed. Natural language processing developments have also gained momentum, with AI systems becoming more adept at understanding and generating human language. However, as AI technologies evolve, ethical considerations and bias issues have come to the forefront, raising important questions about the responsible use of AI. Autonomous vehicles and robotics are also at the forefront of AI innovation, with companies like Tesla pushing the boundaries of self-driving technology. Personalization and recommendation systems powered by AI algorithms are transforming the way we interact with online platforms, creating tailored experiences for users.\n",
       "\n",
       "## Key Players in the AI Industry\n",
       "\n",
       "The AI industry is dominated by major players such as Google, Amazon, Microsoft, IBM, Tesla, OpenAI, and DeepMind. These companies are at the forefront of AI research and development, driving innovation and shaping the future of technology. Google's DeepMind, for example, has made significant strides in AI research, particularly in the field of reinforcement learning. Amazon's AWS AI services are widely used across industries, providing scalable and cost-effective AI solutions. Microsoft's Azure AI platform offers a comprehensive suite of AI tools for businesses, while IBM's Watson AI technology is renowned for its cognitive computing capabilities. Tesla's self-driving technology and OpenAI's advancements in AI ethics are also noteworthy contributions to the industry.\n",
       "\n",
       "## Noteworthy News in Artificial Intelligence\n",
       "\n",
       "Recent breakthroughs in AI research, such as OpenAI's GPT-3 language model and DeepMind's AlphaFold protein folding algorithm, have garnered widespread attention for their potential applications across various sectors. AI is increasingly being deployed in healthcare, finance, and other industries to improve efficiency and decision-making processes. However, ethical concerns and regulations surrounding AI technology remain a key focus area, with policymakers and industry leaders working to address issues of bias, privacy, and transparency. The impact of AI on the future job market is also a topic of debate, with concerns about automation displacing human workers and the need for upskilling and reskilling programs to adapt to a changing workforce.\n",
       "\n",
       "## Conclusion\n",
       "\n",
       "As AI continues to advance at a rapid pace, staying informed about the latest trends, key players, and news in the industry is essential for anyone interested in the future of technology. From machine learning and natural language processing to ethical considerations and autonomous vehicles, AI is reshaping the way we interact with the world around us. By keeping up with the latest developments and understanding the implications of AI technology, we can navigate the complex landscape of artificial intelligence with greater clarity and insight.\n",
       "\n",
       "Remember to subscribe to our newsletter for regular updates on AI trends and news, attend upcoming AI conferences or webinars for in-depth insights, and share this article with your network to spread awareness about the importance of staying informed on AI advancements. Together, we can shape the future of artificial intelligence and harness its potential for the benefit of society and the economy."
      ],
      "text/plain": [
       "<IPython.core.display.Markdown object>"
      ]
     },
     "execution_count": 12,
     "metadata": {},
     "output_type": "execute_result"
    }
   ],
   "source": [
    "from IPython.display import Markdown\n",
    "Markdown(result)"
   ]
  },
  {
   "cell_type": "markdown",
   "metadata": {},
   "source": [
    "## Try it Yourself\n",
    "\n",
    "- Pass in a topic of your choice and see what the agents come up with!"
   ]
  },
  {
   "cell_type": "code",
   "execution_count": null,
   "metadata": {
    "height": 47
   },
   "outputs": [],
   "source": [
    "topic = \"YOUR TOPIC HERE\"\n",
    "result = crew.kickoff(inputs={\"topic\": topic})"
   ]
  },
  {
   "cell_type": "code",
   "execution_count": null,
   "metadata": {
    "height": 30
   },
   "outputs": [],
   "source": [
    "Markdown(result)"
   ]
  },
  {
   "cell_type": "markdown",
   "metadata": {},
   "source": [
    "<a name='1'></a>\n",
    " ## Other Popular Models as LLM for your Agents"
   ]
  },
  {
   "cell_type": "markdown",
   "metadata": {},
   "source": [
    "#### Hugging Face (HuggingFaceHub endpoint)\n",
    "\n",
    "```Python\n",
    "from langchain_community.llms import HuggingFaceHub\n",
    "\n",
    "llm = HuggingFaceHub(\n",
    "    repo_id=\"HuggingFaceH4/zephyr-7b-beta\",\n",
    "    huggingfacehub_api_token=\"<HF_TOKEN_HERE>\",\n",
    "    task=\"text-generation\",\n",
    ")\n",
    "\n",
    "### you will pass \"llm\" to your agent function\n",
    "```"
   ]
  },
  {
   "cell_type": "markdown",
   "metadata": {},
   "source": [
    "#### Mistral API\n",
    "\n",
    "```Python\n",
    "OPENAI_API_KEY=your-mistral-api-key\n",
    "OPENAI_API_BASE=https://api.mistral.ai/v1\n",
    "OPENAI_MODEL_NAME=\"mistral-small\"\n",
    "```"
   ]
  },
  {
   "cell_type": "markdown",
   "metadata": {},
   "source": [
    "#### Cohere\n",
    "\n",
    "```Python\n",
    "from langchain_community.chat_models import ChatCohere\n",
    "# Initialize language model\n",
    "os.environ[\"COHERE_API_KEY\"] = \"your-cohere-api-key\"\n",
    "llm = ChatCohere()\n",
    "\n",
    "### you will pass \"llm\" to your agent function\n",
    "```"
   ]
  },
  {
   "cell_type": "markdown",
   "metadata": {},
   "source": [
    "### For using Llama locally with Ollama and more, checkout the crewAI documentation on [Connecting to any LLM](https://docs.crewai.com/how-to/LLM-Connections/)."
   ]
  },
  {
   "cell_type": "code",
   "execution_count": null,
   "metadata": {
    "height": 30
   },
   "outputs": [],
   "source": []
  },
  {
   "cell_type": "code",
   "execution_count": null,
   "metadata": {
    "height": 30
   },
   "outputs": [],
   "source": []
  },
  {
   "cell_type": "code",
   "execution_count": null,
   "metadata": {
    "height": 30
   },
   "outputs": [],
   "source": []
  }
 ],
 "metadata": {
  "colab": {
   "gpuType": "T4",
   "provenance": []
  },
  "kernelspec": {
   "display_name": "Python 3 (ipykernel)",
   "language": "python",
   "name": "python3"
  },
  "language_info": {
   "codemirror_mode": {
    "name": "ipython",
    "version": 3
   },
   "file_extension": ".py",
   "mimetype": "text/x-python",
   "name": "python",
   "nbconvert_exporter": "python",
   "pygments_lexer": "ipython3",
   "version": "3.11.11"
  }
 },
 "nbformat": 4,
 "nbformat_minor": 4
}
